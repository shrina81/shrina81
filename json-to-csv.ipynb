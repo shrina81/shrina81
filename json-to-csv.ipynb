{
 "cells": [
  {
   "cell_type": "code",
   "execution_count": null,
   "id": "7c94cfaf",
   "metadata": {},
   "outputs": [],
   "source": [
    "import os\n",
    "import json\n",
    "import numpy as np\n",
    "import pandas as pd"
   ]
  },
  {
   "cell_type": "code",
   "execution_count": null,
   "id": "1e6d9c4e",
   "metadata": {},
   "outputs": [],
   "source": [
    "file_list = os.listdir('./Labelled Brake Disc')"
   ]
  },
  {
   "cell_type": "code",
   "execution_count": null,
   "id": "cffebae7",
   "metadata": {},
   "outputs": [],
   "source": [
    "print(file_list)"
   ]
  },
  {
   "cell_type": "code",
   "execution_count": null,
   "id": "b0a0f203",
   "metadata": {},
   "outputs": [],
   "source": [
    "os.getcwd()+'\\\\Labelled Brake Disc'+'20200226_090651.json'"
   ]
  },
  {
   "cell_type": "code",
   "execution_count": null,
   "id": "0feb78a1",
   "metadata": {},
   "outputs": [],
   "source": [
    "dfs = pd.DataFrame() # an empty list to store the data frames\n",
    "for file in file_list:\n",
    "    i=0\n",
    "    with open(os.getcwd()+'\\\\Labelled Brake Disc\\\\'+file, encoding = 'utf-8') as f:    \n",
    "        data = json.load(f)\n",
    "        di = {'split_class':'','imagepath':os.getcwd()+'\\\\labelled_images\\\\'+data['imagePath'],'imageLabel':data['shapes'][0]['label'],\n",
    "                       'tlx':int(data['shapes'][0]['points'][0][0]),'tly':int(data['shapes'][0]['points'][0][1]),\n",
    "                        'e1':'','e2':'',\n",
    "                       'brx':int(data['shapes'][0]['points'][1][0]),'bry':int(data['shapes'][0]['points'][1][1])}\n",
    "        df=pd.DataFrame(di,index=range(1))\n",
    "    dfs=dfs.append(df,ignore_index = True)"
   ]
  },
  {
   "cell_type": "code",
   "execution_count": null,
   "id": "2b21d40d",
   "metadata": {},
   "outputs": [],
   "source": [
    "print(dfs)"
   ]
  },
  {
   "cell_type": "code",
   "execution_count": null,
   "id": "461e106e",
   "metadata": {},
   "outputs": [],
   "source": [
    "dfs.to_csv('C://Image Data//new development//Labelled Brake Disc//training-labelled-data.csv',header=False,index=False)"
   ]
  },
  {
   "cell_type": "markdown",
   "id": "b75e2fed",
   "metadata": {},
   "source": [
    "**CONVERSION DONE!!!"
   ]
  },
  {
   "cell_type": "markdown",
   "id": "f26e433c",
   "metadata": {},
   "source": [
    "### trying pil"
   ]
  },
  {
   "cell_type": "code",
   "execution_count": null,
   "id": "9fb9da42",
   "metadata": {},
   "outputs": [],
   "source": [
    "from PIL import Image"
   ]
  },
  {
   "cell_type": "code",
   "execution_count": null,
   "id": "af5c07b5",
   "metadata": {},
   "outputs": [],
   "source": [
    "#img = Image.open(\"C:/Image Data/new development/Brake Disc/20200226_090651.jpg\")\n",
    "#20200226_090711.jpg\n",
    "img = Image.open(\"C:/Image Data/training/train/nOK/20220308_093512(0).jpg\")\n"
   ]
  },
  {
   "cell_type": "code",
   "execution_count": null,
   "id": "ea84d6df",
   "metadata": {},
   "outputs": [],
   "source": [
    "import matplotlib.pyplot as plt"
   ]
  },
  {
   "cell_type": "code",
   "execution_count": null,
   "id": "7933c628",
   "metadata": {},
   "outputs": [],
   "source": [
    "plt.imshow(img)"
   ]
  },
  {
   "cell_type": "code",
   "execution_count": null,
   "id": "606b4fd6",
   "metadata": {},
   "outputs": [],
   "source": [
    "  \"points\": [\n",
    "        [\n",
    "          682.5454545454545,\n",
    "          1235.1818181818182\n",
    "        ],\n",
    "        [\n",
    "          2732.545454545455,\n",
    "          3112.4545454545455\n",
    "        ]"
   ]
  },
  {
   "cell_type": "code",
   "execution_count": null,
   "id": "87f2f0a3",
   "metadata": {},
   "outputs": [],
   "source": [
    "img2 = img.crop((682,1235,2732,3112))"
   ]
  },
  {
   "cell_type": "code",
   "execution_count": null,
   "id": "609f4528",
   "metadata": {},
   "outputs": [],
   "source": [
    "type(img2)"
   ]
  },
  {
   "cell_type": "code",
   "execution_count": null,
   "id": "c50282bd",
   "metadata": {},
   "outputs": [],
   "source": [
    "plt.imshow(img2)"
   ]
  },
  {
   "cell_type": "code",
   "execution_count": null,
   "id": "9ae31fc5",
   "metadata": {},
   "outputs": [],
   "source": []
  },
  {
   "cell_type": "code",
   "execution_count": null,
   "id": "e105f51c",
   "metadata": {},
   "outputs": [],
   "source": []
  },
  {
   "cell_type": "code",
   "execution_count": null,
   "id": "707f5c01",
   "metadata": {},
   "outputs": [],
   "source": []
  }
 ],
 "metadata": {
  "kernelspec": {
   "display_name": "Python 3",
   "language": "python",
   "name": "python3"
  },
  "language_info": {
   "codemirror_mode": {
    "name": "ipython",
    "version": 3
   },
   "file_extension": ".py",
   "mimetype": "text/x-python",
   "name": "python",
   "nbconvert_exporter": "python",
   "pygments_lexer": "ipython3",
   "version": "3.8.8"
  }
 },
 "nbformat": 4,
 "nbformat_minor": 5
}
